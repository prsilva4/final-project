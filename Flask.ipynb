{
 "cells": [
  {
   "cell_type": "code",
   "execution_count": null,
   "id": "dfb363c6",
   "metadata": {},
   "outputs": [
    {
     "name": "stdout",
     "output_type": "stream",
     "text": [
      " * Serving Flask app \"__main__\" (lazy loading)\n",
      " * Environment: production\n",
      "\u001b[31m   WARNING: This is a development server. Do not use it in a production deployment.\u001b[0m\n",
      "\u001b[2m   Use a production WSGI server instead.\u001b[0m\n",
      " * Debug mode: off\n"
     ]
    },
    {
     "name": "stderr",
     "output_type": "stream",
     "text": [
      " * Running on http://127.0.0.1:4999/ (Press CTRL+C to quit)\n",
      "127.0.0.1 - - [12/May/2022 18:28:46] \"GET / HTTP/1.1\" 200 -\n",
      "127.0.0.1 - - [12/May/2022 18:28:46] \"GET /favicon.ico HTTP/1.1\" 404 -\n",
      "[nltk_data] Downloading package punkt to\n",
      "[nltk_data]     /Users/rafaelsilva/nltk_data...\n",
      "[nltk_data]   Package punkt is already up-to-date!\n",
      "[nltk_data] Downloading package wordnet to\n",
      "[nltk_data]     /Users/rafaelsilva/nltk_data...\n",
      "[nltk_data]   Package wordnet is already up-to-date!\n",
      "[nltk_data] Downloading package stopwords to\n",
      "[nltk_data]     /Users/rafaelsilva/nltk_data...\n",
      "[nltk_data]   Package stopwords is already up-to-date!\n",
      "127.0.0.1 - - [12/May/2022 18:29:00] \"POST / HTTP/1.1\" 200 -\n",
      "127.0.0.1 - - [12/May/2022 18:29:04] \"GET / HTTP/1.1\" 200 -\n"
     ]
    }
   ],
   "source": [
    "from flask import Flask, render_template,request\n",
    "\n",
    "app = Flask(__name__)\n",
    "\n",
    "@app.route(\"/\")\n",
    "\n",
    "def my_form():\n",
    "    return render_template('my-form.html')\n",
    "\n",
    "@app.route('/', methods=['POST'])\n",
    "def my_form_post():\n",
    "    text = request.form['text']\n",
    "    from running_function import final\n",
    "    return final(text)\n",
    "\n",
    "if __name__ == '__main__':\n",
    "    app.run(port=4999)"
   ]
  },
  {
   "cell_type": "code",
   "execution_count": null,
   "id": "51fbc9ab",
   "metadata": {},
   "outputs": [],
   "source": []
  }
 ],
 "metadata": {
  "kernelspec": {
   "display_name": "Python 3 (ipykernel)",
   "language": "python",
   "name": "python3"
  },
  "language_info": {
   "codemirror_mode": {
    "name": "ipython",
    "version": 3
   },
   "file_extension": ".py",
   "mimetype": "text/x-python",
   "name": "python",
   "nbconvert_exporter": "python",
   "pygments_lexer": "ipython3",
   "version": "3.8.2"
  }
 },
 "nbformat": 4,
 "nbformat_minor": 5
}
