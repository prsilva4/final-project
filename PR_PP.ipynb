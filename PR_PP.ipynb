{
 "cells": [
  {
   "cell_type": "code",
   "execution_count": 7,
   "id": "ae3bdf5b",
   "metadata": {},
   "outputs": [],
   "source": [
    "import pandas as pd\n",
    "import nltk\n",
    "from all_in_one import all_in_one"
   ]
  },
  {
   "cell_type": "code",
   "execution_count": 2,
   "id": "07e2fd46",
   "metadata": {},
   "outputs": [],
   "source": [
    "sample= pd.read_csv('labeled.csv')"
   ]
  },
  {
   "cell_type": "code",
   "execution_count": 3,
   "id": "824d08ed",
   "metadata": {},
   "outputs": [],
   "source": [
    "sample = sample.drop_duplicates('text', keep='last')"
   ]
  },
  {
   "cell_type": "code",
   "execution_count": 5,
   "id": "ff940349",
   "metadata": {},
   "outputs": [],
   "source": [
    "sample['processed']=sample['text'].apply(all_in_one)"
   ]
  },
  {
   "cell_type": "code",
   "execution_count": 8,
   "id": "4efe61da",
   "metadata": {},
   "outputs": [],
   "source": [
    "new_list = []\n",
    "\n",
    "for tweet in sample['processed']:\n",
    "    for word in tweet:\n",
    "        new_list.append(word)\n",
    "        \n",
    "new_list=nltk.FreqDist(new_list)"
   ]
  },
  {
   "cell_type": "code",
   "execution_count": 9,
   "id": "12feaf73",
   "metadata": {},
   "outputs": [],
   "source": [
    "def find_features(document):\n",
    "    \n",
    "    words = set(document)\n",
    "    features = {}\n",
    "    \n",
    "    for w in new_list:\n",
    "        features[w] = (w in words)\n",
    "\n",
    "    return features"
   ]
  },
  {
   "cell_type": "code",
   "execution_count": 10,
   "id": "e14d42ca",
   "metadata": {},
   "outputs": [],
   "source": [
    "featuresets = [(find_features(tweet), target) for (tweet, target) in list(zip(sample['processed'], sample['target']))]"
   ]
  },
  {
   "cell_type": "code",
   "execution_count": null,
   "id": "ba7e4429",
   "metadata": {},
   "outputs": [],
   "source": [
    "classifier = nltk.NaiveBayesClassifier.train(featuresets)"
   ]
  },
  {
   "cell_type": "code",
   "execution_count": null,
   "id": "61c0fa3e",
   "metadata": {},
   "outputs": [],
   "source": [
    "dicionario=featuresets.copy()"
   ]
  },
  {
   "cell_type": "code",
   "execution_count": null,
   "id": "31602c6c",
   "metadata": {},
   "outputs": [],
   "source": [
    "dicionario=dicionario[0][0]"
   ]
  },
  {
   "cell_type": "code",
   "execution_count": null,
   "id": "5b203a26",
   "metadata": {},
   "outputs": [],
   "source": [
    "for key,value in dicionario.items():\n",
    "    dicionario[key] = False"
   ]
  },
  {
   "cell_type": "code",
   "execution_count": null,
   "id": "c29e99bb",
   "metadata": {},
   "outputs": [],
   "source": [
    "###########################################################################"
   ]
  },
  {
   "cell_type": "code",
   "execution_count": null,
   "id": "6700ff9e",
   "metadata": {},
   "outputs": [],
   "source": [
    "import pickle\n",
    "\n",
    "dicionario\n",
    "\n",
    "# Store data (serialize)\n",
    "with open('dicionario.pickle', 'wb') as handle:\n",
    "    pickle.dump(dicionario, handle, protocol=pickle.HIGHEST_PROTOCOL)\n",
    "    \n",
    "classifier\n",
    "\n",
    "# Store data (serialize)\n",
    "with open('classifier.pickle', 'wb') as handle:\n",
    "    pickle.dump(classifier, handle, protocol=pickle.HIGHEST_PROTOCOL)    "
   ]
  },
  {
   "cell_type": "code",
   "execution_count": null,
   "id": "0d68b8af",
   "metadata": {},
   "outputs": [],
   "source": []
  }
 ],
 "metadata": {
  "kernelspec": {
   "display_name": "Python 3 (ipykernel)",
   "language": "python",
   "name": "python3"
  },
  "language_info": {
   "codemirror_mode": {
    "name": "ipython",
    "version": 3
   },
   "file_extension": ".py",
   "mimetype": "text/x-python",
   "name": "python",
   "nbconvert_exporter": "python",
   "pygments_lexer": "ipython3",
   "version": "3.8.2"
  }
 },
 "nbformat": 4,
 "nbformat_minor": 5
}
