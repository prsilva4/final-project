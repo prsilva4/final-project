{
 "cells": [
  {
   "cell_type": "code",
   "execution_count": 4,
   "id": "c838f77b",
   "metadata": {},
   "outputs": [
    {
     "name": "stderr",
     "output_type": "stream",
     "text": [
      "[nltk_data] Downloading package punkt to\n",
      "[nltk_data]     /Users/rafaelsilva/nltk_data...\n",
      "[nltk_data]   Package punkt is already up-to-date!\n",
      "[nltk_data] Downloading package wordnet to\n",
      "[nltk_data]     /Users/rafaelsilva/nltk_data...\n",
      "[nltk_data]   Package wordnet is already up-to-date!\n",
      "[nltk_data] Downloading package stopwords to\n",
      "[nltk_data]     /Users/rafaelsilva/nltk_data...\n",
      "[nltk_data]   Package stopwords is already up-to-date!\n"
     ]
    }
   ],
   "source": [
    "from all_in_one import all_in_one"
   ]
  },
  {
   "cell_type": "code",
   "execution_count": 5,
   "id": "614d5e67",
   "metadata": {},
   "outputs": [],
   "source": [
    "def running(tweet):\n",
    "    \n",
    "    import pickle\n",
    "    with open('dicionario.pickle', 'rb') as handle:\n",
    "        \n",
    "        dicionario = pickle.load(handle)\n",
    "    \n",
    "        new_tweet = all_in_one(tweet) # tratando o novo tweet\n",
    "    \n",
    "        dicionario2 = dicionario.copy() # copiando o bag of words\n",
    "\n",
    "        words_in_common = list(set(list(dicionario2.keys())).intersection(set(new_tweet))) # intersection\n",
    "    try:\n",
    "        for word in words_in_common: # iterando todas as palavras em comum\n",
    "            if word in dicionario2.keys(): # avaliando se a palavra em comum esta no bow\n",
    "                dicionario2[word] = True # se estiver muda o bow para true nesta palavra\n",
    "                \n",
    "        return dicionario2 # retorna o bow modificado\n",
    "    \n",
    "    except:\n",
    "        return dicionario2 # retorna o bow original    "
   ]
  },
  {
   "cell_type": "code",
   "execution_count": 6,
   "id": "aef9ec9a",
   "metadata": {},
   "outputs": [],
   "source": [
    "def final(newtweet):\n",
    "    \n",
    "    import pickle\n",
    "    with open('classifier.pickle', 'rb') as handle:        \n",
    "        classifier = pickle.load(handle)\n",
    "    newtweet=running(newtweet)\n",
    "    newtweet=classifier.classify(newtweet)\n",
    "    \n",
    "    if newtweet==1:\n",
    "        \n",
    "        return 'This is a disaster tweet'\n",
    "    else:\n",
    "        return 'This is not a disaster tweet' "
   ]
  },
  {
   "cell_type": "code",
   "execution_count": null,
   "id": "9fb680b8",
   "metadata": {},
   "outputs": [],
   "source": []
  }
 ],
 "metadata": {
  "kernelspec": {
   "display_name": "Python 3 (ipykernel)",
   "language": "python",
   "name": "python3"
  },
  "language_info": {
   "codemirror_mode": {
    "name": "ipython",
    "version": 3
   },
   "file_extension": ".py",
   "mimetype": "text/x-python",
   "name": "python",
   "nbconvert_exporter": "python",
   "pygments_lexer": "ipython3",
   "version": "3.8.2"
  }
 },
 "nbformat": 4,
 "nbformat_minor": 5
}
